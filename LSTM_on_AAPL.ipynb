{
  "nbformat": 4,
  "nbformat_minor": 0,
  "metadata": {
    "colab": {
      "name": "LSTM on AAPL",
      "provenance": [],
      "authorship_tag": "ABX9TyNUvAHff/SZP7cf5ThzIe9Y",
      "include_colab_link": true
    },
    "kernelspec": {
      "name": "python3",
      "display_name": "Python 3"
    }
  },
  "cells": [
    {
      "cell_type": "markdown",
      "metadata": {
        "id": "view-in-github",
        "colab_type": "text"
      },
      "source": [
        "<a href=\"https://colab.research.google.com/github/brewerk/Hello-World/blob/master/LSTM_on_AAPL.ipynb\" target=\"_parent\"><img src=\"https://colab.research.google.com/assets/colab-badge.svg\" alt=\"Open In Colab\"/></a>"
      ]
    },
    {
      "cell_type": "code",
      "metadata": {
        "id": "tgzYolgGVppR"
      },
      "source": [
        "# Description: This program uses an artificial recurrent neural network called long short term memory (LSTM)\n",
        "#              to predict the closing stock price of a corporation ( Apple Inc.) using the past 60 day stock price."
      ],
      "execution_count": null,
      "outputs": []
    },
    {
      "cell_type": "code",
      "metadata": {
        "id": "1yg26Pa-WIfG"
      },
      "source": [
        "# Import the libraries\n",
        "import math\n",
        "import pandas_datareader as web\n",
        "import numpy as np\n",
        "import pandas as pd\n",
        "from sklearn.preprocessing import MinMaxScaler\n",
        "from keras.models import Sequential\n",
        "from keras.layers import Dense, LSTM\n",
        "import matplotlib.pyplot as plt\n",
        "plt.style.use('fivethirtyeight')"
      ],
      "execution_count": 2,
      "outputs": []
    },
    {
      "cell_type": "code",
      "metadata": {
        "colab": {
          "base_uri": "https://localhost:8080/",
          "height": 450
        },
        "id": "vM1ykLVUW0Sc",
        "outputId": "c4009757-659d-45ba-a750-e405632d9b8f"
      },
      "source": [
        "#Get the stock quote\n",
        "df = web.DataReader('AAPL', data_source='yahoo', start='2019-01-01', end= '2020-11-17')\n",
        "#Show the data\n",
        "df"
      ],
      "execution_count": 5,
      "outputs": [
        {
          "output_type": "execute_result",
          "data": {
            "text/html": [
              "<div>\n",
              "<style scoped>\n",
              "    .dataframe tbody tr th:only-of-type {\n",
              "        vertical-align: middle;\n",
              "    }\n",
              "\n",
              "    .dataframe tbody tr th {\n",
              "        vertical-align: top;\n",
              "    }\n",
              "\n",
              "    .dataframe thead th {\n",
              "        text-align: right;\n",
              "    }\n",
              "</style>\n",
              "<table border=\"1\" class=\"dataframe\">\n",
              "  <thead>\n",
              "    <tr style=\"text-align: right;\">\n",
              "      <th></th>\n",
              "      <th>High</th>\n",
              "      <th>Low</th>\n",
              "      <th>Open</th>\n",
              "      <th>Close</th>\n",
              "      <th>Volume</th>\n",
              "      <th>Adj Close</th>\n",
              "    </tr>\n",
              "    <tr>\n",
              "      <th>Date</th>\n",
              "      <th></th>\n",
              "      <th></th>\n",
              "      <th></th>\n",
              "      <th></th>\n",
              "      <th></th>\n",
              "      <th></th>\n",
              "    </tr>\n",
              "  </thead>\n",
              "  <tbody>\n",
              "    <tr>\n",
              "      <th>2019-01-02</th>\n",
              "      <td>39.712502</td>\n",
              "      <td>38.557499</td>\n",
              "      <td>38.722500</td>\n",
              "      <td>39.480000</td>\n",
              "      <td>148158800.0</td>\n",
              "      <td>38.249401</td>\n",
              "    </tr>\n",
              "    <tr>\n",
              "      <th>2019-01-03</th>\n",
              "      <td>36.430000</td>\n",
              "      <td>35.500000</td>\n",
              "      <td>35.994999</td>\n",
              "      <td>35.547501</td>\n",
              "      <td>365248800.0</td>\n",
              "      <td>34.439476</td>\n",
              "    </tr>\n",
              "    <tr>\n",
              "      <th>2019-01-04</th>\n",
              "      <td>37.137501</td>\n",
              "      <td>35.950001</td>\n",
              "      <td>36.132500</td>\n",
              "      <td>37.064999</td>\n",
              "      <td>234428400.0</td>\n",
              "      <td>35.909672</td>\n",
              "    </tr>\n",
              "    <tr>\n",
              "      <th>2019-01-07</th>\n",
              "      <td>37.207500</td>\n",
              "      <td>36.474998</td>\n",
              "      <td>37.174999</td>\n",
              "      <td>36.982498</td>\n",
              "      <td>219111200.0</td>\n",
              "      <td>35.829746</td>\n",
              "    </tr>\n",
              "    <tr>\n",
              "      <th>2019-01-08</th>\n",
              "      <td>37.955002</td>\n",
              "      <td>37.130001</td>\n",
              "      <td>37.389999</td>\n",
              "      <td>37.687500</td>\n",
              "      <td>164101200.0</td>\n",
              "      <td>36.512772</td>\n",
              "    </tr>\n",
              "    <tr>\n",
              "      <th>...</th>\n",
              "      <td>...</td>\n",
              "      <td>...</td>\n",
              "      <td>...</td>\n",
              "      <td>...</td>\n",
              "      <td>...</td>\n",
              "      <td>...</td>\n",
              "    </tr>\n",
              "    <tr>\n",
              "      <th>2020-11-11</th>\n",
              "      <td>119.629997</td>\n",
              "      <td>116.440002</td>\n",
              "      <td>117.190002</td>\n",
              "      <td>119.489998</td>\n",
              "      <td>112295000.0</td>\n",
              "      <td>119.489998</td>\n",
              "    </tr>\n",
              "    <tr>\n",
              "      <th>2020-11-12</th>\n",
              "      <td>120.529999</td>\n",
              "      <td>118.570000</td>\n",
              "      <td>119.620003</td>\n",
              "      <td>119.209999</td>\n",
              "      <td>103162300.0</td>\n",
              "      <td>119.209999</td>\n",
              "    </tr>\n",
              "    <tr>\n",
              "      <th>2020-11-13</th>\n",
              "      <td>119.669998</td>\n",
              "      <td>117.870003</td>\n",
              "      <td>119.440002</td>\n",
              "      <td>119.260002</td>\n",
              "      <td>81581900.0</td>\n",
              "      <td>119.260002</td>\n",
              "    </tr>\n",
              "    <tr>\n",
              "      <th>2020-11-16</th>\n",
              "      <td>120.989998</td>\n",
              "      <td>118.150002</td>\n",
              "      <td>118.919998</td>\n",
              "      <td>120.300003</td>\n",
              "      <td>91183000.0</td>\n",
              "      <td>120.300003</td>\n",
              "    </tr>\n",
              "    <tr>\n",
              "      <th>2020-11-17</th>\n",
              "      <td>120.669998</td>\n",
              "      <td>118.959999</td>\n",
              "      <td>119.550003</td>\n",
              "      <td>119.389999</td>\n",
              "      <td>74271000.0</td>\n",
              "      <td>119.389999</td>\n",
              "    </tr>\n",
              "  </tbody>\n",
              "</table>\n",
              "<p>475 rows × 6 columns</p>\n",
              "</div>"
            ],
            "text/plain": [
              "                  High         Low  ...       Volume   Adj Close\n",
              "Date                                ...                         \n",
              "2019-01-02   39.712502   38.557499  ...  148158800.0   38.249401\n",
              "2019-01-03   36.430000   35.500000  ...  365248800.0   34.439476\n",
              "2019-01-04   37.137501   35.950001  ...  234428400.0   35.909672\n",
              "2019-01-07   37.207500   36.474998  ...  219111200.0   35.829746\n",
              "2019-01-08   37.955002   37.130001  ...  164101200.0   36.512772\n",
              "...                ...         ...  ...          ...         ...\n",
              "2020-11-11  119.629997  116.440002  ...  112295000.0  119.489998\n",
              "2020-11-12  120.529999  118.570000  ...  103162300.0  119.209999\n",
              "2020-11-13  119.669998  117.870003  ...   81581900.0  119.260002\n",
              "2020-11-16  120.989998  118.150002  ...   91183000.0  120.300003\n",
              "2020-11-17  120.669998  118.959999  ...   74271000.0  119.389999\n",
              "\n",
              "[475 rows x 6 columns]"
            ]
          },
          "metadata": {
            "tags": []
          },
          "execution_count": 5
        }
      ]
    },
    {
      "cell_type": "code",
      "metadata": {
        "colab": {
          "base_uri": "https://localhost:8080/"
        },
        "id": "Gyxc8dbXXvP7",
        "outputId": "9356e40f-8c32-45ce-bdf2-49b10ea4ac25"
      },
      "source": [
        "#Get the number of rows and coloums in the data set\n",
        "df.shape"
      ],
      "execution_count": 6,
      "outputs": [
        {
          "output_type": "execute_result",
          "data": {
            "text/plain": [
              "(475, 6)"
            ]
          },
          "metadata": {
            "tags": []
          },
          "execution_count": 6
        }
      ]
    },
    {
      "cell_type": "code",
      "metadata": {
        "colab": {
          "base_uri": "https://localhost:8080/",
          "height": 616
        },
        "id": "cI34gFAJX3fz",
        "outputId": "899bb2a6-b9d6-450d-84f0-4e449f9d375f"
      },
      "source": [
        "#Visualise the closing price history\n",
        "plt.figure(figsize=(16,9))\n",
        "plt.title('Close Price History')\n",
        "plt.plot(df['Close'])\n",
        "plt.xlabel('Date', fontsize=18)\n",
        "plt.ylabel('Adj Close ($)', fontsize=18)\n",
        "plt.show()\n"
      ],
      "execution_count": 7,
      "outputs": [
        {
          "output_type": "display_data",
          "data": {
            "image/png": "[encoded data removed]",
            "text/plain": [
              "<Figure size 1152x648 with 1 Axes>"
            ]
          },
          "metadata": {
            "tags": []
          }
        }
      ]
    },
    {
      "cell_type": "code",
      "metadata": {
        "colab": {
          "base_uri": "https://localhost:8080/"
        },
        "id": "W1O1QH7aefOU",
        "outputId": "b81d3e76-4cc3-4ba6-8945-c5f21c7ba892"
      },
      "source": [
        "#Create a new dataframe with only the close colum\n",
        "data = df.filter(['Close'])\n",
        "#Convert the dataframe to a numpy arrary\n",
        "dataset = data.values\n",
        "#Get the number of rows to train the model on\n",
        "training_data_len = math.ceil(len(dataset) *.8)\n",
        "training_data_len"
      ],
      "execution_count": 9,
      "outputs": [
        {
          "output_type": "execute_result",
          "data": {
            "text/plain": [
              "380"
            ]
          },
          "metadata": {
            "tags": []
          },
          "execution_count": 9
        }
      ]
    },
    {
      "cell_type": "code",
      "metadata": {
        "colab": {
          "base_uri": "https://localhost:8080/"
        },
        "id": "_TrscPvKfZgD",
        "outputId": "2b69753e-3296-43c0-85e5-881da7cc7d1c"
      },
      "source": [
        "#Scale the data\n",
        "scaler = MinMaxScaler(feature_range=(0,1))\n",
        "scaled_data = scaler.fit_transform(dataset)\n",
        "scaled_data"
      ],
      "execution_count": 10,
      "outputs": [
        {
          "output_type": "execute_result",
          "data": {
            "text/plain": [
              "array([[0.03987022],\n",
              "       [0.        ],\n",
              "       [0.01538538],\n",
              "       [0.01454893],\n",
              "       [0.0216967 ],\n",
              "       [0.02818543],\n",
              "       [0.02942742],\n",
              "       [0.02560006],\n",
              "       [0.0197957 ],\n",
              "       [0.02757713],\n",
              "       [0.03231694],\n",
              "       [0.03464882],\n",
              "       [0.03708211],\n",
              "       [0.02816009],\n",
              "       [0.02973157],\n",
              "       [0.02663928],\n",
              "       [0.03946466],\n",
              "       [0.03576408],\n",
              "       [0.0316579 ],\n",
              "       [0.05844929],\n",
              "       [0.06146555],\n",
              "       [0.06166832],\n",
              "       [0.07365726],\n",
              "       [0.0810838 ],\n",
              "       [0.08123592],\n",
              "       [0.07287152],\n",
              "       [0.07152816],\n",
              "       [0.06904416],\n",
              "       [0.07274478],\n",
              "       [0.07094516],\n",
              "       [0.07251667],\n",
              "       [0.07155349],\n",
              "       [0.07284615],\n",
              "       [0.0756343 ],\n",
              "       [0.07317567],\n",
              "       [0.07801688],\n",
              "       [0.08121054],\n",
              "       [0.08146403],\n",
              "       [0.08283273],\n",
              "       [0.0784731 ],\n",
              "       [0.08308621],\n",
              "       [0.08531672],\n",
              "       [0.08450561],\n",
              "       [0.08194562],\n",
              "       [0.07682559],\n",
              "       [0.07786481],\n",
              "       [0.09304741],\n",
              "       [0.0981421 ],\n",
              "       [0.10016984],\n",
              "       [0.10528983],\n",
              "       [0.11134767],\n",
              "       [0.11616355],\n",
              "       [0.11238689],\n",
              "       [0.1165184 ],\n",
              "       [0.13408359],\n",
              "       [0.12384357],\n",
              "       [0.11798851],\n",
              "       [0.11304589],\n",
              "       [0.11730414],\n",
              "       [0.11793781],\n",
              "       [0.12105543],\n",
              "       [0.12432516],\n",
              "       [0.13137152],\n",
              "       [0.13474263],\n",
              "       [0.1356044 ],\n",
              "       [0.1389248 ],\n",
              "       [0.14678227],\n",
              "       [0.14526146],\n",
              "       [0.14810026],\n",
              "       [0.14386738],\n",
              "       [0.14366461],\n",
              "       [0.14457709],\n",
              "       [0.14462779],\n",
              "       [0.15446229],\n",
              "       [0.15631258],\n",
              "       [0.1580108 ],\n",
              "       [0.16548805],\n",
              "       [0.16467697],\n",
              "       [0.1599118 ],\n",
              "       [0.15742784],\n",
              "       [0.15821358],\n",
              "       [0.14822701],\n",
              "       [0.17319344],\n",
              "       [0.16972093],\n",
              "       [0.17631106],\n",
              "       [0.16802271],\n",
              "       [0.15377792],\n",
              "       [0.15387929],\n",
              "       [0.14835375],\n",
              "       [0.13938102],\n",
              "       [0.11033382],\n",
              "       [0.11778573],\n",
              "       [0.12351405],\n",
              "       [0.12138495],\n",
              "       [0.11864751],\n",
              "       [0.10366765],\n",
              "       [0.11256434],\n",
              "       [0.10288191],\n",
              "       [0.09497378],\n",
              "       [0.09322485],\n",
              "       [0.09134919],\n",
              "       [0.08919475],\n",
              "       [0.09152664],\n",
              "       [0.08333969],\n",
              "       [0.07885333],\n",
              "       [0.09492307],\n",
              "       [0.10227358],\n",
              "       [0.10906649],\n",
              "       [0.12156235],\n",
              "       [0.1277216 ],\n",
              "       [0.13337389],\n",
              "       [0.13180241],\n",
              "       [0.131701  ],\n",
              "       [0.12812716],\n",
              "       [0.131042  ],\n",
              "       [0.14260005],\n",
              "       [0.14112994],\n",
              "       [0.14516009],\n",
              "       [0.1434365 ],\n",
              "       [0.14292957],\n",
              "       [0.13530025],\n",
              "       [0.14602186],\n",
              "       [0.14586979],\n",
              "       [0.14125669],\n",
              "       [0.15045752],\n",
              "       [0.1534484 ],\n",
              "       [0.15770665],\n",
              "       [0.15725039],\n",
              "       [0.14657949],\n",
              "       [0.14967178],\n",
              "       [0.15471573],\n",
              "       [0.15096444],\n",
              "       [0.15489318],\n",
              "       [0.15973439],\n",
              "       [0.15793476],\n",
              "       [0.15501992],\n",
              "       [0.16087498],\n",
              "       [0.15309355],\n",
              "       [0.16482905],\n",
              "       [0.16893519],\n",
              "       [0.1685043 ],\n",
              "       [0.16432212],\n",
              "       [0.16614708],\n",
              "       [0.17106429],\n",
              "       [0.16878311],\n",
              "       [0.17958076],\n",
              "       [0.16789597],\n",
              "       [0.15671814],\n",
              "       [0.12964793],\n",
              "       [0.1389248 ],\n",
              "       [0.14409549],\n",
              "       [0.15522266],\n",
              "       [0.14903812],\n",
              "       [0.14774541],\n",
              "       [0.16926471],\n",
              "       [0.15349911],\n",
              "       [0.15093911],\n",
              "       [0.16300409],\n",
              "       [0.17276255],\n",
              "       [0.17278788],\n",
              "       [0.17856691],\n",
              "       [0.17811069],\n",
              "       [0.15322029],\n",
              "       [0.16297876],\n",
              "       [0.15707299],\n",
              "       [0.16054546],\n",
              "       [0.16936607],\n",
              "       [0.16868174],\n",
              "       [0.16097635],\n",
              "       [0.16982233],\n",
              "       [0.18018909],\n",
              "       [0.18013839],\n",
              "       [0.18244494],\n",
              "       [0.18885763],\n",
              "       [0.20632145],\n",
              "       [0.20505412],\n",
              "       [0.19405369],\n",
              "       [0.19696854],\n",
              "       [0.19899628],\n",
              "       [0.20424304],\n",
              "       [0.19965531],\n",
              "       [0.19146833],\n",
              "       [0.19397766],\n",
              "       [0.19134159],\n",
              "       [0.19983272],\n",
              "       [0.19694321],\n",
              "       [0.19423114],\n",
              "       [0.20728463],\n",
              "       [0.20885611],\n",
              "       [0.19458599],\n",
              "       [0.19930046],\n",
              "       [0.21498999],\n",
              "       [0.21511673],\n",
              "       [0.20837452],\n",
              "       [0.21504069],\n",
              "       [0.22279675],\n",
              "       [0.2383089 ],\n",
              "       [0.23744709],\n",
              "       [0.23605306],\n",
              "       [0.2336451 ],\n",
              "       [0.23595165],\n",
              "       [0.23881583],\n",
              "       [0.24920792],\n",
              "       [0.24781389],\n",
              "       [0.25597546],\n",
              "       [0.25698935],\n",
              "       [0.26459333],\n",
              "       [0.27085395],\n",
              "       [0.25625427],\n",
              "       [0.25617824],\n",
              "       [0.27011888],\n",
              "       [0.28801362],\n",
              "       [0.29227183],\n",
              "       [0.29133402],\n",
              "       [0.2916128 ],\n",
              "       [0.29716371],\n",
              "       [0.29896338],\n",
              "       [0.30418478],\n",
              "       [0.3035764 ],\n",
              "       [0.30993843],\n",
              "       [0.30530003],\n",
              "       [0.31320816],\n",
              "       [0.3166046 ],\n",
              "       [0.31455153],\n",
              "       [0.30669407],\n",
              "       [0.30370318],\n",
              "       [0.30312018],\n",
              "       [0.31475427],\n",
              "       [0.30948221],\n",
              "       [0.31848023],\n",
              "       [0.31698479],\n",
              "       [0.30915269],\n",
              "       [0.29721446],\n",
              "       [0.30301878],\n",
              "       [0.31275187],\n",
              "       [0.32575469],\n",
              "       [0.31614838],\n",
              "       [0.32010245],\n",
              "       [0.32590677],\n",
              "       [0.32765569],\n",
              "       [0.3370086 ],\n",
              "       [0.34894683],\n",
              "       [0.35034094],\n",
              "       [0.34864269],\n",
              "       [0.34935239],\n",
              "       [0.34788232],\n",
              "       [0.35944037],\n",
              "       [0.3601247 ],\n",
              "       [0.37442023],\n",
              "       [0.37414138],\n",
              "       [0.378501  ],\n",
              "       [0.38389984],\n",
              "       [0.4008821 ],\n",
              "       [0.39348086],\n",
              "       [0.39948799],\n",
              "       [0.39591419],\n",
              "       [0.40808053],\n",
              "       [0.42440376],\n",
              "       [0.42617798],\n",
              "       [0.4429828 ],\n",
              "       [0.43213445],\n",
              "       [0.42873801],\n",
              "       [0.43862318],\n",
              "       [0.4474692 ],\n",
              "       [0.44199432],\n",
              "       [0.4448585 ],\n",
              "       [0.44873653],\n",
              "       [0.44640461],\n",
              "       [0.42268021],\n",
              "       [0.44483313],\n",
              "       [0.46168861],\n",
              "       [0.46049732],\n",
              "       [0.42409961],\n",
              "       [0.42194514],\n",
              "       [0.44777335],\n",
              "       [0.45436348],\n",
              "       [0.46389376],\n",
              "       [0.45076423],\n",
              "       [0.45461689],\n",
              "       [0.44969964],\n",
              "       [0.46893779],\n",
              "       [0.46303198],\n",
              "       [0.4632348 ],\n",
              "       [0.44815353],\n",
              "       [0.45986365],\n",
              "       [0.45144856],\n",
              "       [0.43307226],\n",
              "       [0.39538185],\n",
              "       [0.36978176],\n",
              "       [0.38136518],\n",
              "       [0.33287709],\n",
              "       [0.33247153],\n",
              "       [0.3969787 ],\n",
              "       [0.37292479],\n",
              "       [0.4069399 ],\n",
              "       [0.38204959],\n",
              "       [0.37218971],\n",
              "       [0.31424739],\n",
              "       [0.36283681],\n",
              "       [0.3377183 ],\n",
              "       [0.26877551],\n",
              "       [0.34415636],\n",
              "       [0.25351687],\n",
              "       [0.28051101],\n",
              "       [0.26482144],\n",
              "       [0.26003093],\n",
              "       [0.22064231],\n",
              "       [0.20829848],\n",
              "       [0.26535374],\n",
              "       [0.2619066 ],\n",
              "       [0.29465442],\n",
              "       [0.26753355],\n",
              "       [0.28545359],\n",
              "       [0.28413555],\n",
              "       [0.25022181],\n",
              "       [0.26041112],\n",
              "       [0.25148914],\n",
              "       [0.30486911],\n",
              "       [0.29716371],\n",
              "       [0.3139939 ],\n",
              "       [0.31886041],\n",
              "       [0.33219276],\n",
              "       [0.36717106],\n",
              "       [0.36053026],\n",
              "       [0.36625862],\n",
              "       [0.35639874],\n",
              "       [0.34152029],\n",
              "       [0.31982359],\n",
              "       [0.33941656],\n",
              "       [0.33670445],\n",
              "       [0.35682967],\n",
              "       [0.35733663],\n",
              "       [0.34570247],\n",
              "       [0.36889469],\n",
              "       [0.38428002],\n",
              "       [0.37229112],\n",
              "       [0.38265788],\n",
              "       [0.39381038],\n",
              "       [0.40159181],\n",
              "       [0.40947457],\n",
              "       [0.42567109],\n",
              "       [0.43804025],\n",
              "       [0.42891546],\n",
              "       [0.4193851 ],\n",
              "       [0.42417565],\n",
              "       [0.41953718],\n",
              "       [0.43791347],\n",
              "       [0.43330045],\n",
              "       [0.44873653],\n",
              "       [0.44270402],\n",
              "       [0.44787475],\n",
              "       [0.44239987],\n",
              "       [0.44589764],\n",
              "       [0.44625253],\n",
              "       [0.44546679],\n",
              "       [0.45537733],\n",
              "       [0.45915395],\n",
              "       [0.46366565],\n",
              "       [0.45656862],\n",
              "       [0.4798368 ],\n",
              "       [0.48480472],\n",
              "       [0.5114947 ],\n",
              "       [0.53392647],\n",
              "       [0.4909893 ],\n",
              "       [0.4983398 ],\n",
              "       [0.50896004],\n",
              "       [0.5320001 ],\n",
              "       [0.53075814],\n",
              "       [0.53111303],\n",
              "       [0.52601834],\n",
              "       [0.54921048],\n",
              "       [0.568626  ],\n",
              "       [0.55222673],\n",
              "       [0.56434241],\n",
              "       [0.53592888],\n",
              "       [0.55658635],\n",
              "       [0.564241  ],\n",
              "       [0.56249208],\n",
              "       [0.56249208],\n",
              "       [0.58717974],\n",
              "       [0.58423952],\n",
              "       [0.60624037],\n",
              "       [0.61039725],\n",
              "       [0.61209543],\n",
              "       [0.60760911],\n",
              "       [0.62362819],\n",
              "       [0.63039569],\n",
              "       [0.61820397],\n",
              "       [0.61622694],\n",
              "       [0.63680838],\n",
              "       [0.62304519],\n",
              "       [0.62580796],\n",
              "       [0.58091912],\n",
              "       [0.5785872 ],\n",
              "       [0.60084153],\n",
              "       [0.58505063],\n",
              "       [0.60317345],\n",
              "       [0.61483291],\n",
              "       [0.71692908],\n",
              "       [0.74407528],\n",
              "       [0.75145116],\n",
              "       [0.75548126],\n",
              "       [0.79441363],\n",
              "       [0.76612687],\n",
              "       [0.78250076],\n",
              "       [0.74851094],\n",
              "       [0.78536494],\n",
              "       [0.80564224],\n",
              "       [0.80460302],\n",
              "       [0.80156139],\n",
              "       [0.81124382],\n",
              "       [0.81271389],\n",
              "       [0.83874491],\n",
              "       [0.90053998],\n",
              "       [0.91562117],\n",
              "       [0.905153  ],\n",
              "       [0.92236338],\n",
              "       [0.9070287 ],\n",
              "       [0.90497563],\n",
              "       [0.94788736],\n",
              "       [1.        ],\n",
              "       [0.97181457],\n",
              "       [0.86515604],\n",
              "       [0.86596715],\n",
              "       [0.78343858],\n",
              "       [0.82906249],\n",
              "       [0.79023145],\n",
              "       [0.77512489],\n",
              "       [0.80919075],\n",
              "       [0.81101571],\n",
              "       [0.77644288],\n",
              "       [0.7582947 ],\n",
              "       [0.72280943],\n",
              "       [0.7556587 ],\n",
              "       [0.77319852],\n",
              "       [0.72564832],\n",
              "       [0.73680082],\n",
              "       [0.7779637 ],\n",
              "       [0.80513527],\n",
              "       [0.79631462],\n",
              "       [0.81375311],\n",
              "       [0.82368902],\n",
              "       [0.78546627],\n",
              "       [0.8207488 ],\n",
              "       [0.78688576],\n",
              "       [0.80635194],\n",
              "       [0.80523668],\n",
              "       [0.82551398],\n",
              "       [0.90084412],\n",
              "       [0.86738656],\n",
              "       [0.86829908],\n",
              "       [0.86343249],\n",
              "       [0.84629815],\n",
              "       [0.81547674],\n",
              "       [0.83098885],\n",
              "       [0.82450013],\n",
              "       [0.81314481],\n",
              "       [0.80594638],\n",
              "       [0.80604779],\n",
              "       [0.82176265],\n",
              "       [0.76701394],\n",
              "       [0.80878519],\n",
              "       [0.74328954],\n",
              "       [0.74237703],\n",
              "       [0.75930862],\n",
              "       [0.80503387],\n",
              "       [0.84639956],\n",
              "       [0.84295246],\n",
              "       [0.81892384],\n",
              "       [0.81537533],\n",
              "       [0.85106333],\n",
              "       [0.84822452],\n",
              "       [0.84873149],\n",
              "       [0.85927569],\n",
              "       [0.85004948]])"
            ]
          },
          "metadata": {
            "tags": []
          },
          "execution_count": 10
        }
      ]
    },
    {
      "cell_type": "code",
      "metadata": {
        "colab": {
          "base_uri": "https://localhost:8080/"
        },
        "id": "EkkpFmZJf2QL",
        "outputId": "31eb5afc-bf51-416b-b3d0-27e5cfa49cfb"
      },
      "source": [
        "#create the training data set\n",
        "#create the scaled training data set\n",
        "train_data = scaled_data[0:training_data_len, :]\n",
        "#Split the data into x_train and y_train data sets\n",
        "x_train = []\n",
        "y_train = []\n",
        "\n",
        "for i in range(60, len(train_data)):\n",
        "  x_train.append(train_data[i-60:i,0])\n",
        "  y_train.append(train_data[i,0])\n",
        "  if i<=60:\n",
        "    print(x_train)\n",
        "    print(y_train)\n",
        "    print()"
      ],
      "execution_count": 11,
      "outputs": [
        {
          "output_type": "stream",
          "text": [
            "[array([0.03987022, 0.        , 0.01538538, 0.01454893, 0.0216967 ,\n",
            "       0.02818543, 0.02942742, 0.02560006, 0.0197957 , 0.02757713,\n",
            "       0.03231694, 0.03464882, 0.03708211, 0.02816009, 0.02973157,\n",
            "       0.02663928, 0.03946466, 0.03576408, 0.0316579 , 0.05844929,\n",
            "       0.06146555, 0.06166832, 0.07365726, 0.0810838 , 0.08123592,\n",
            "       0.07287152, 0.07152816, 0.06904416, 0.07274478, 0.07094516,\n",
            "       0.07251667, 0.07155349, 0.07284615, 0.0756343 , 0.07317567,\n",
            "       0.07801688, 0.08121054, 0.08146403, 0.08283273, 0.0784731 ,\n",
            "       0.08308621, 0.08531672, 0.08450561, 0.08194562, 0.07682559,\n",
            "       0.07786481, 0.09304741, 0.0981421 , 0.10016984, 0.10528983,\n",
            "       0.11134767, 0.11616355, 0.11238689, 0.1165184 , 0.13408359,\n",
            "       0.12384357, 0.11798851, 0.11304589, 0.11730414, 0.11793781])]\n",
            "[0.12105542886200593]\n",
            "\n"
          ],
          "name": "stdout"
        }
      ]
    },
    {
      "cell_type": "code",
      "metadata": {
        "id": "ijnMSYjphK-L"
      },
      "source": [
        "#Convert the x_train and y_train to numpy arrays\n",
        "x_train, y_train = np.array(x_train), np.array(y_train)\n"
      ],
      "execution_count": 12,
      "outputs": []
    },
    {
      "cell_type": "code",
      "metadata": {
        "colab": {
          "base_uri": "https://localhost:8080/"
        },
        "id": "FIP-jxxOhZZa",
        "outputId": "0e4c4af1-868d-4bda-9c4c-909c1e7b6270"
      },
      "source": [
        "#Reshape the data\n",
        "x_train = np.reshape(x_train, (x_train.shape[0], x_train.shape[1],1))\n",
        "x_train.shape"
      ],
      "execution_count": 14,
      "outputs": [
        {
          "output_type": "execute_result",
          "data": {
            "text/plain": [
              "(320, 60, 1)"
            ]
          },
          "metadata": {
            "tags": []
          },
          "execution_count": 14
        }
      ]
    },
    {
      "cell_type": "code",
      "metadata": {
        "id": "A2Lo5IMJh3mp"
      },
      "source": [
        "#Build the LSTM\n",
        "model = Sequential()\n",
        "model.add(LSTM(50, return_sequences=True, input_shape=(x_train.shape[1],1)))\n",
        "model.add(LSTM(50, return_sequences=False))\n",
        "model.add(Dense(25))\n",
        "model.add(Dense(1))"
      ],
      "execution_count": 16,
      "outputs": []
    },
    {
      "cell_type": "code",
      "metadata": {
        "id": "dz_JgL7MipxC"
      },
      "source": [
        "#Compile the model\n",
        "model.compile(optimizer='adam', loss= 'mean_squared_error')"
      ],
      "execution_count": 18,
      "outputs": []
    },
    {
      "cell_type": "code",
      "metadata": {
        "colab": {
          "base_uri": "https://localhost:8080/"
        },
        "id": "WiRrCIXUi5Ky",
        "outputId": "36ba0b09-596b-428b-b0a6-c00e0095b6d8"
      },
      "source": [
        "#train the model\n",
        "model.fit(x_train, y_train, batch_size = 1, epochs = 1)"
      ],
      "execution_count": 19,
      "outputs": [
        {
          "output_type": "stream",
          "text": [
            "320/320 [==============================] - 8s 24ms/step - loss: 0.0028\n"
          ],
          "name": "stdout"
        },
        {
          "output_type": "execute_result",
          "data": {
            "text/plain": [
              "<tensorflow.python.keras.callbacks.History at 0x7f5b299d3cc0>"
            ]
          },
          "metadata": {
            "tags": []
          },
          "execution_count": 19
        }
      ]
    },
    {
      "cell_type": "code",
      "metadata": {
        "id": "u5BONlngjjsA"
      },
      "source": [
        "#Create the testing data set\n",
        "#Create a new array containing scaled values from index 320\n",
        "test_data = scaled_data[training_data_len-60:,:]\n",
        "#create the data sets x_test and y_test\n",
        "x_test = []\n",
        "y_test = dataset[training_data_len:,:]\n",
        "for i in range(60, len(test_data)):\n",
        "  x_test.append(test_data[i-60:i,0])"
      ],
      "execution_count": 21,
      "outputs": []
    },
    {
      "cell_type": "code",
      "metadata": {
        "id": "OGDAtM65qpCx"
      },
      "source": [
        "#Convert the data to a numpy array\n",
        "x_test = np.array(x_test)\n"
      ],
      "execution_count": 22,
      "outputs": []
    },
    {
      "cell_type": "code",
      "metadata": {
        "id": "PorWRrJ1qzOI"
      },
      "source": [
        "#Reshape the data\n",
        "x_test = np.reshape(x_test,(x_test.shape[0], x_test.shape[1], 1))"
      ],
      "execution_count": 24,
      "outputs": []
    },
    {
      "cell_type": "code",
      "metadata": {
        "id": "MzOaQ9X7rMiZ"
      },
      "source": [
        "#Get the models predicted price values\n",
        "predictions = model.predict(x_test)\n",
        "predictions = scaler.inverse_transform(predictions)"
      ],
      "execution_count": 25,
      "outputs": []
    },
    {
      "cell_type": "code",
      "metadata": {
        "colab": {
          "base_uri": "https://localhost:8080/"
        },
        "id": "g5gfZkOrrvZO",
        "outputId": "969494a7-c7e8-4c71-d1eb-aec38c79fa6f"
      },
      "source": [
        "#Get the root mean squared error (RMSE)\n",
        "rmse = np.sqrt(np.mean(predictions-y_test)**2)\n",
        "rmse"
      ],
      "execution_count": 27,
      "outputs": [
        {
          "output_type": "execute_result",
          "data": {
            "text/plain": [
              "10.375047061317845"
            ]
          },
          "metadata": {
            "tags": []
          },
          "execution_count": 27
        }
      ]
    },
    {
      "cell_type": "code",
      "metadata": {
        "colab": {
          "base_uri": "https://localhost:8080/",
          "height": 677
        },
        "id": "q3mtLtRasTNI",
        "outputId": "975af5f3-f804-406f-f755-bddeb038a356"
      },
      "source": [
        "#Plot the data\n",
        "train = data[:training_data_len]\n",
        "valid = data[training_data_len:]\n",
        "valid['Predictions'] = predictions\n",
        "#Visualise the data\n",
        "plt.figure(figsize = (16,8))\n",
        "plt.title('Model')\n",
        "plt.xlabel('Date', fontsize = 18)\n",
        "plt.ylabel('Close Price USD', fontsize = 18)\n",
        "plt.plot(train['Close'])\n",
        "plt.plot(valid[['Close', 'Predictions']])\n",
        "plt.legend(['Train', 'Val', 'Predictions'], loc = 'lower right')\n",
        "plt.show"
      ],
      "execution_count": 28,
      "outputs": [
        {
          "output_type": "stream",
          "text": [
            "/usr/local/lib/python3.6/dist-packages/ipykernel_launcher.py:4: SettingWithCopyWarning: \n",
            "A value is trying to be set on a copy of a slice from a DataFrame.\n",
            "Try using .loc[row_indexer,col_indexer] = value instead\n",
            "\n",
            "See the caveats in the documentation: https://pandas.pydata.org/pandas-docs/stable/user_guide/indexing.html#returning-a-view-versus-a-copy\n",
            "  after removing the cwd from sys.path.\n"
          ],
          "name": "stderr"
        },
        {
          "output_type": "execute_result",
          "data": {
            "text/plain": [
              "<function matplotlib.pyplot.show>"
            ]
          },
          "metadata": {
            "tags": []
          },
          "execution_count": 28
        },
        {
          "output_type": "display_data",
          "data": {
            "image/png": "[encoded data removed]",
            "text/plain": [
              "<Figure size 1152x576 with 1 Axes>"
            ]
          },
          "metadata": {
            "tags": []
          }
        }
      ]
    },
    {
      "cell_type": "code",
      "metadata": {
        "colab": {
          "base_uri": "https://localhost:8080/",
          "height": 450
        },
        "id": "ydqgJmwlt-lQ",
        "outputId": "ec10d5a3-7af5-427f-be74-e2301a977239"
      },
      "source": [
        "#Show the valid and predicted prices\n",
        "valid"
      ],
      "execution_count": 29,
      "outputs": [
        {
          "output_type": "execute_result",
          "data": {
            "text/html": [
              "<div>\n",
              "<style scoped>\n",
              "    .dataframe tbody tr th:only-of-type {\n",
              "        vertical-align: middle;\n",
              "    }\n",
              "\n",
              "    .dataframe tbody tr th {\n",
              "        vertical-align: top;\n",
              "    }\n",
              "\n",
              "    .dataframe thead th {\n",
              "        text-align: right;\n",
              "    }\n",
              "</style>\n",
              "<table border=\"1\" class=\"dataframe\">\n",
              "  <thead>\n",
              "    <tr style=\"text-align: right;\">\n",
              "      <th></th>\n",
              "      <th>Close</th>\n",
              "      <th>Predictions</th>\n",
              "    </tr>\n",
              "    <tr>\n",
              "      <th>Date</th>\n",
              "      <th></th>\n",
              "      <th></th>\n",
              "    </tr>\n",
              "  </thead>\n",
              "  <tbody>\n",
              "    <tr>\n",
              "      <th>2020-07-07</th>\n",
              "      <td>93.172501</td>\n",
              "      <td>85.276489</td>\n",
              "    </tr>\n",
              "    <tr>\n",
              "      <th>2020-07-08</th>\n",
              "      <td>95.342499</td>\n",
              "      <td>85.612762</td>\n",
              "    </tr>\n",
              "    <tr>\n",
              "      <th>2020-07-09</th>\n",
              "      <td>95.752502</td>\n",
              "      <td>86.055382</td>\n",
              "    </tr>\n",
              "    <tr>\n",
              "      <th>2020-07-10</th>\n",
              "      <td>95.919998</td>\n",
              "      <td>86.565552</td>\n",
              "    </tr>\n",
              "    <tr>\n",
              "      <th>2020-07-13</th>\n",
              "      <td>95.477501</td>\n",
              "      <td>87.100143</td>\n",
              "    </tr>\n",
              "    <tr>\n",
              "      <th>...</th>\n",
              "      <td>...</td>\n",
              "      <td>...</td>\n",
              "    </tr>\n",
              "    <tr>\n",
              "      <th>2020-11-11</th>\n",
              "      <td>119.489998</td>\n",
              "      <td>104.676727</td>\n",
              "    </tr>\n",
              "    <tr>\n",
              "      <th>2020-11-12</th>\n",
              "      <td>119.209999</td>\n",
              "      <td>105.172768</td>\n",
              "    </tr>\n",
              "    <tr>\n",
              "      <th>2020-11-13</th>\n",
              "      <td>119.260002</td>\n",
              "      <td>105.734032</td>\n",
              "    </tr>\n",
              "    <tr>\n",
              "      <th>2020-11-16</th>\n",
              "      <td>120.300003</td>\n",
              "      <td>106.309074</td>\n",
              "    </tr>\n",
              "    <tr>\n",
              "      <th>2020-11-17</th>\n",
              "      <td>119.389999</td>\n",
              "      <td>106.911026</td>\n",
              "    </tr>\n",
              "  </tbody>\n",
              "</table>\n",
              "<p>95 rows × 2 columns</p>\n",
              "</div>"
            ],
            "text/plain": [
              "                 Close  Predictions\n",
              "Date                               \n",
              "2020-07-07   93.172501    85.276489\n",
              "2020-07-08   95.342499    85.612762\n",
              "2020-07-09   95.752502    86.055382\n",
              "2020-07-10   95.919998    86.565552\n",
              "2020-07-13   95.477501    87.100143\n",
              "...                ...          ...\n",
              "2020-11-11  119.489998   104.676727\n",
              "2020-11-12  119.209999   105.172768\n",
              "2020-11-13  119.260002   105.734032\n",
              "2020-11-16  120.300003   106.309074\n",
              "2020-11-17  119.389999   106.911026\n",
              "\n",
              "[95 rows x 2 columns]"
            ]
          },
          "metadata": {
            "tags": []
          },
          "execution_count": 29
        }
      ]
    },
    {
      "cell_type": "code",
      "metadata": {
        "colab": {
          "base_uri": "https://localhost:8080/"
        },
        "id": "ZmNKZTwCuP4n",
        "outputId": "f2efd66e-1839-4f1a-eeb8-76015c04404a"
      },
      "source": [
        "#Get the qoute\n",
        "apple_quote = web.DataReader('AAPL', data_source='yahoo', start='2012-01-01', end='2019-12-17')\n",
        "#Create a new dataframe\n",
        "new_df = apple_quote.filter(['Close'])\n",
        "#Get the last 60 days Closing price values and convert the dataframe to an array\n",
        "last_60_days = new_df[-60:].values\n",
        "#Scale the data to be data values between 0 and 1\n",
        "last_60_days_scaled = scaler.transform(last_60_days)\n",
        "#Create and empty list\n",
        "X_test = []\n",
        "#Append the past 60 days\n",
        "X_test.append(last_60_days_scaled)\n",
        "#Convert the X_test data set to numpy array\n",
        "X_test = np.array(X_test)\n",
        "#Reshape the data\n",
        "X_test = np.reshape(X_test, (X_test.shape[0], X_test.shape[1], 1))\n",
        "#Get the predicted scaled price\n",
        "pred_price = model.predict(X_test)\n",
        "#Undo the scaling\n",
        "pred_price = scaler.inverse_transform(pred_price)\n",
        "print(pred_price)"
      ],
      "execution_count": 34,
      "outputs": [
        {
          "output_type": "stream",
          "text": [
            "[[65.67399]]\n"
          ],
          "name": "stdout"
        }
      ]
    },
    {
      "cell_type": "code",
      "metadata": {
        "colab": {
          "base_uri": "https://localhost:8080/"
        },
        "id": "GUNG2DpLxmeX",
        "outputId": "cb1dccb5-a5c6-475e-f417-ab7e5dcd04ac"
      },
      "source": [
        "#Get the qoute\n",
        "apple_quote2 = web.DataReader('AAPL', data_source='yahoo', start='2019-12-18', end='2019-12-18')\n",
        "print(apple_quote2['Close'])"
      ],
      "execution_count": 35,
      "outputs": [
        {
          "output_type": "stream",
          "text": [
            "Date\n",
            "2019-12-18    69.934998\n",
            "Name: Close, dtype: float64\n"
          ],
          "name": "stdout"
        }
      ]
    }
  ]
}